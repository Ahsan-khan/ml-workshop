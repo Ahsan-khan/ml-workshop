{
  "nbformat": 4,
  "nbformat_minor": 0,
  "metadata": {
    "colab": {
      "provenance": [],
      "toc_visible": true
    },
    "kernelspec": {
      "name": "python3",
      "display_name": "Python 3"
    },
    "language_info": {
      "name": "python"
    }
  },
  "cells": [
    {
      "cell_type": "markdown",
      "source": [
        "---\n",
        "# **Machine Learning With Python - UWindsor AI Club**\n",
        "---\n"
      ],
      "metadata": {
        "id": "_iNk0x002VRH"
      }
    },
    {
      "cell_type": "markdown",
      "source": [
        "#### **What we are going to do today**"
      ],
      "metadata": {
        "id": "73k7giTMXpM5"
      }
    },
    {
      "cell_type": "markdown",
      "source": [
        "1. Look at Regression Algorithm (Linear Regression)\n",
        "2. Look at Classification Algorithm (KNN)\n",
        "3. Project: Classification\n",
        "4. Research vs Engineering in ML\n",
        "5. Transfer Learning\n",
        "6. Next Steps\n",
        "\n"
      ],
      "metadata": {
        "id": "j0uYN4QP2xHD"
      }
    },
    {
      "cell_type": "markdown",
      "source": [
        "#### **Learning Outcomes**"
      ],
      "metadata": {
        "id": "-NYT-KIFXRj2"
      }
    },
    {
      "cell_type": "markdown",
      "source": [
        "\n",
        "\n",
        "*   Understand the process of a typical/small machine learning project\n",
        "*   Get familiarty with python libraries for machine learning\n",
        "* Be able to work on your own machine learning project\n",
        "* Use transfer learning for better results\n",
        "\n"
      ],
      "metadata": {
        "id": "ylkxVu64XwCQ"
      }
    },
    {
      "cell_type": "markdown",
      "source": [
        "---\n",
        "# **2 Easy Machine Learning Algorithms**\n",
        "---"
      ],
      "metadata": {
        "id": "6lPuxHyRZIVk"
      }
    },
    {
      "cell_type": "markdown",
      "source": [
        "### **Linear Regression**"
      ],
      "metadata": {
        "id": "CtNB3Oyv3u_Z"
      }
    },
    {
      "cell_type": "markdown",
      "source": [
        "\n",
        "*Aka Line of best fit*"
      ],
      "metadata": {
        "id": "WY7eCLwF5p6a"
      }
    },
    {
      "cell_type": "markdown",
      "source": [
        "There is X data, y data and we use the formula y=mx+c to find line of best fit. With this line of best fit we can predict y values given a X"
      ],
      "metadata": {
        "id": "sWALgmwuFpW_"
      }
    },
    {
      "cell_type": "markdown",
      "source": [
        "This is a regression (looking for a Y value for any X)"
      ],
      "metadata": {
        "id": "KTezysylphbS"
      }
    },
    {
      "cell_type": "markdown",
      "source": [
        "PASTE X AND Y DATA"
      ],
      "metadata": {
        "id": "yk3kgg4qoTxj"
      }
    },
    {
      "cell_type": "code",
      "source": [
        "from IPython.display import Image\n",
        "Image(url='https://miro.medium.com/max/828/1*MtuQBTW0-XbjA2RrP2z3Kw.gif')"
      ],
      "metadata": {
        "colab": {
          "base_uri": "https://localhost:8080/",
          "height": 471
        },
        "id": "6TFGDvKhKB1n",
        "outputId": "b7064ace-00e1-4a83-c3d7-e0cd0ecc0333"
      },
      "execution_count": null,
      "outputs": [
        {
          "output_type": "execute_result",
          "data": {
            "text/html": [
              "<img src=\"https://miro.medium.com/max/828/1*MtuQBTW0-XbjA2RrP2z3Kw.gif\"/>"
            ],
            "text/plain": [
              "<IPython.core.display.Image object>"
            ]
          },
          "metadata": {},
          "execution_count": 1
        }
      ]
    },
    {
      "cell_type": "markdown",
      "source": [
        "### **K-Nearest Neighbour (KNN)**"
      ],
      "metadata": {
        "id": "uWPDPgqIodz9"
      }
    },
    {
      "cell_type": "markdown",
      "source": [
        "this is a classification ( looking to predict a specific class/group for a given X)"
      ],
      "metadata": {
        "id": "W4AaZGvvp5Y7"
      }
    },
    {
      "cell_type": "markdown",
      "source": [
        "---\n",
        "# **Machine Learning Project**\n",
        "---"
      ],
      "metadata": {
        "id": "fU4e-vXqpH39"
      }
    },
    {
      "cell_type": "markdown",
      "source": [
        "Steps of a machine learning project\n",
        "\n",
        "\n",
        "1.   Load required libraries\n",
        "2.   Prepare data\n",
        "3.   Choose or build your ml model\n",
        "4.   Train your model with your data\n",
        "5.   Test model\n",
        "\n"
      ],
      "metadata": {
        "id": "x63A2IfRY957"
      }
    },
    {
      "cell_type": "markdown",
      "source": [
        "### **Project: Classifying Handwritten Numbers**\n",
        "- Using Logistic Regression"
      ],
      "metadata": {
        "id": "nPM3lokkrUAm"
      }
    },
    {
      "cell_type": "code",
      "source": [],
      "metadata": {
        "id": "REgL7WSSGJj-"
      },
      "execution_count": null,
      "outputs": []
    },
    {
      "cell_type": "code",
      "source": [],
      "metadata": {
        "id": "ez_5qOchtzEP"
      },
      "execution_count": null,
      "outputs": []
    },
    {
      "cell_type": "code",
      "source": [],
      "metadata": {
        "id": "2lf9ANHKtrws"
      },
      "execution_count": null,
      "outputs": []
    },
    {
      "cell_type": "markdown",
      "source": [
        "# **Research Vs Engineering**\n"
      ],
      "metadata": {
        "id": "hE7VS6kGt2ME"
      }
    },
    {
      "cell_type": "code",
      "source": [],
      "metadata": {
        "id": "DF7hyGlKuyel"
      },
      "execution_count": null,
      "outputs": []
    },
    {
      "cell_type": "code",
      "source": [],
      "metadata": {
        "id": "njOuRRRB0I2l"
      },
      "execution_count": null,
      "outputs": []
    },
    {
      "cell_type": "code",
      "source": [],
      "metadata": {
        "id": "yXhNTjcL0Inx"
      },
      "execution_count": null,
      "outputs": []
    },
    {
      "cell_type": "markdown",
      "source": [
        "---\n",
        "# **Next Steps**\n",
        "---"
      ],
      "metadata": {
        "id": "GwZwyNDH0JXT"
      }
    },
    {
      "cell_type": "markdown",
      "source": [
        "\n",
        "*   Learn more Data Analysis with Python\n",
        "* Learn about more algorithms\n",
        "* Learn about existing models that you can use\n",
        "*   Do several ml projects \n",
        "* get involved (connect with ml people on linkedin, attend ml conferences, \n",
        "\n",
        "\n"
      ],
      "metadata": {
        "id": "cPXTTxLf0x7X"
      }
    },
    {
      "cell_type": "markdown",
      "source": [
        "https://inria.github.io/scikit-learn-mooc/python_scripts/datasets_california_housing.html"
      ],
      "metadata": {
        "id": "MsTp7prwuzck"
      }
    },
    {
      "cell_type": "code",
      "source": [],
      "metadata": {
        "id": "hQAuMear1tZu"
      },
      "execution_count": null,
      "outputs": []
    }
  ]
}